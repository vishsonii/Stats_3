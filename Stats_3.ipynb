{
 "cells": [
  {
   "cell_type": "code",
   "execution_count": 1,
   "metadata": {},
   "outputs": [
    {
     "name": "stdout",
     "output_type": "stream",
     "text": [
      "Let H0: μ= 100,  Stating the hypothesis. Given, The population mean is 100.\n",
      "Let H1: μ > 100 \n",
      "Probability of having value less than 108 is :  0.9993128620620841\n",
      "Probability of having value more than or equals to 108 is:  0.0006871379379158604\n",
      "==================Answer==================\n",
      "Probability of having value more than or equals to 108 is less than 0.05 so we will reject the Null hypothesis. There is raw cornstarch effect.\n"
     ]
    }
   ],
   "source": [
    "import scipy.stats as st\n",
    "\n",
    "print(\"Let H0: μ= 100,  Stating the hypothesis. Given, The population mean is 100.\")\n",
    "print(\"Let H1: μ > 100 \")\n",
    "\n",
    "significance_level = 0.05 #It is not given in the problem so let’s assume it as 5% (0.05).\n",
    "m = 100 #Given, Blood glucose levels for obese patients have a mean of 100. \n",
    "s = 15 #Given, Standard deviation of 15\n",
    "p = 36 #Given, A sample of 36 patients\n",
    "x = 108 #Given, Patients who have tried the raw cornstarch diet have a mean glucose level of 108.\n",
    "Z = (x-m)/(s/(p**0.5)) #Z-Score for this set of data\n",
    "p_value = st.norm.cdf(Z) # By looking at z- table, Probability of having value less than 108.\n",
    "p_value_comp = 1-p_value #Probability of having value more than or equals to 108.\n",
    "\n",
    "print(\"Probability of having value less than 108 is : \",p_value)\n",
    "print(\"Probability of having value more than or equals to 108 is: \",p_value_comp)\n",
    "print(\"==================Answer==================\")\n",
    "if(p_value_comp < significance_level ):\n",
    "    print(\"Probability of having value more than or equals to 108 is less than \" +str(significance_level)+ \" so we will reject the Null hypothesis. There is raw cornstarch effect.\")\n",
    "else:\n",
    "    print(\"Probability of having value less than 108 is not less than \"+str(significance_level)+ \" so we will not reject the Null hypothesis. There is no raw cornstarch effect.\")"
   ]
  },
  {
   "cell_type": "code",
   "execution_count": 2,
   "metadata": {},
   "outputs": [
    {
     "name": "stdout",
     "output_type": "stream",
     "text": [
      "Let, The proportion of Republican voters in the first state: P1\n",
      "Let, The proportion of Republican voters in the second state: P2\n",
      "Let, The proportion of Republican voters in the sample from the first state: p1\n",
      "Let, The proportion of Republican voters in the sample from the second state: p2\n",
      "Let, The number of voters sampled from the first state: n1\n",
      "Let, The number of voters sampled from the second state: n2\n",
      "Now,\n",
      "The proportion of Republican voters in the first state ( 52% ): P1  = 0.52\n",
      "The proportion of Republican voters in the second state ( 47% ): P2 = 0.47\n",
      "The number of voters sampled from the first state: n1 = 100\n",
      "The number of voters sampled from the second state: n2 = 100\n",
      "The mean of the difference in sample proportions: E(p1-p2) = P1-P2 = 0.05\n",
      "The standard deviation of the difference, σd = sqrt{[P1(1-P1)/n1] + [P2(1-P2)/n2]}, σd = 0.07061869440877536\n",
      "Finding the probability that p1-p2 is less than zero is equivalent to finding the probability that p1 is less than p2.\n",
      "Z-Score using mean difference and calculated standard deviation: -0.7080278164104213\n",
      "==========================================================Answer==========================================================\n",
      "The probability that the survey will show a greater percentage of Republican voters in the second state than in the first state is: 0.24\n"
     ]
    }
   ],
   "source": [
    "import scipy.stats as st\n",
    "print(\"Let, The proportion of Republican voters in the first state: P1\")\n",
    "print(\"Let, The proportion of Republican voters in the second state: P2\")\n",
    "print(\"Let, The proportion of Republican voters in the sample from the first state: p1\")\n",
    "print(\"Let, The proportion of Republican voters in the sample from the second state: p2\")\n",
    "print(\"Let, The number of voters sampled from the first state: n1\")\n",
    "print(\"Let, The number of voters sampled from the second state: n2\")\n",
    "\n",
    "P1 = 0.52 #The proportion of Republican voters in the first state.\n",
    "P2 = 0.47 #The proportion of Republican voters in the second state.\n",
    "\n",
    "print(\"Now,\")\n",
    "print(\"The proportion of Republican voters in the first state ( 52% ): P1  = 0.52\")\n",
    "print(\"The proportion of Republican voters in the second state ( 47% ): P2 = 0.47\") \n",
    "      \n",
    "n1 = 100 #The number of voters sampled from the first state (As given data in percentage).\n",
    "n2 = 100 #The number of voters sampled from the second state (As given data in percentage).\n",
    "      \n",
    "print(\"The number of voters sampled from the first state: n1 = 100\")\n",
    "print(\"The number of voters sampled from the second state: n2 = 100\")\n",
    "      \n",
    "md = P1-P2 #The mean of the difference in sample proportions: E(p1-p2) = P1-P2\n",
    "print(\"The mean of the difference in sample proportions: E(p1-p2) = P1-P2 =\",round(md,2))\n",
    "      \n",
    "sd = ((P1*(1-P1)/n1) + (P2*(1-P2)/n2))**0.5  #The standard deviation of the difference, σd = sqrt{[P1(1-P1)/n1] + [P2(1-P2)/n2]} \n",
    "print(\"The standard deviation of the difference, σd = sqrt{[P1(1-P1)/n1] + [P2(1-P2)/n2]}, σd =\",sd)\n",
    "\n",
    "#Finding the probability that p1-p2 is less than zero is equivalent to finding the probability that p1 is less than p2.\n",
    "print(\"Finding the probability that p1-p2 is less than zero is equivalent to finding the probability that p1 is less than p2.\")\n",
    "      \n",
    "Z =  (0-md)/sd #Finding Z-Score, z(p1-p2) using mean difference and calculated standard deviation\n",
    "print(\"Z-Score using mean difference and calculated standard deviation:\", Z)\n",
    "      \n",
    "p_value = st.norm.cdf(Z) #The probability of given z-score \n",
    "print(\"==========================================================Answer==========================================================\")\n",
    "print(\"The probability that the survey will show a greater percentage of Republican voters in the second state than in the first state is:\", round(p_value, 2))"
   ]
  },
  {
   "cell_type": "code",
   "execution_count": 3,
   "metadata": {},
   "outputs": [
    {
     "name": "stdout",
     "output_type": "stream",
     "text": [
      "===============================Answer===============================\n",
      "\n",
      "I have scored higher than 63.835565843531896% of test takers.\n"
     ]
    }
   ],
   "source": [
    "import scipy.stats as st\n",
    "m = 1026 #Given, The mean score for the SAT is 1026.\n",
    "s = 209 #Given, The standard deviation is 209.\n",
    "x = 1100 #Given, You take the SAT and score 1100.\n",
    "Z = (x-m)/s #Calculating Z - Score\n",
    "p_value = st.norm.cdf(Z) #The probability of given z-score\n",
    "print(\"===============================Answer===============================\")\n",
    "print(\"\\nI have scored higher than \" + str(p_value*100)+ \"% of test takers.\");"
   ]
  },
  {
   "cell_type": "code",
   "execution_count": null,
   "metadata": {},
   "outputs": [],
   "source": []
  }
 ],
 "metadata": {
  "kernelspec": {
   "display_name": "Python 3",
   "language": "python",
   "name": "python3"
  },
  "language_info": {
   "codemirror_mode": {
    "name": "ipython",
    "version": 3
   },
   "file_extension": ".py",
   "mimetype": "text/x-python",
   "name": "python",
   "nbconvert_exporter": "python",
   "pygments_lexer": "ipython3",
   "version": "3.6.4"
  }
 },
 "nbformat": 4,
 "nbformat_minor": 2
}
